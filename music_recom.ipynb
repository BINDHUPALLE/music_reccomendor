{
  "nbformat": 4,
  "nbformat_minor": 0,
  "metadata": {
    "colab": {
      "provenance": [],
      "include_colab_link": true
    },
    "kernelspec": {
      "name": "python3",
      "display_name": "Python 3"
    }
  },
  "cells": [
    {
      "cell_type": "markdown",
      "metadata": {
        "id": "view-in-github",
        "colab_type": "text"
      },
      "source": [
        "<a href=\"https://colab.research.google.com/github/BINDHUPALLE/music_reccomendor/blob/main/music_recom.ipynb\" target=\"_parent\"><img src=\"https://colab.research.google.com/assets/colab-badge.svg\" alt=\"Open In Colab\"/></a>"
      ]
    },
    {
      "cell_type": "code",
      "source": [
        "import pandas as pd"
      ],
      "metadata": {
        "id": "vOVdfktlji9g"
      },
      "execution_count": null,
      "outputs": []
    },
    {
      "cell_type": "code",
      "source": [],
      "metadata": {
        "id": "n-tl1DkP4y_I"
      },
      "execution_count": null,
      "outputs": []
    },
    {
      "cell_type": "code",
      "source": [
        "with open(\"spotify.csv\", 'r') as f:\n",
        "    lines = f.readlines()\n",
        "    print(lines[4230:4240])  # Print around the problematic line\n"
      ],
      "metadata": {
        "id": "PFy4pmGokZjs"
      },
      "execution_count": null,
      "outputs": []
    },
    {
      "cell_type": "markdown",
      "source": [],
      "metadata": {
        "id": "o2Brp5sRaiWn"
      }
    },
    {
      "cell_type": "code",
      "source": [
        "df = pd.read_csv(\"spotify.csv\", engine='python', dtype=str)\n",
        "df.head()\n"
      ],
      "metadata": {
        "id": "lh_pa6dbkkp1"
      },
      "execution_count": null,
      "outputs": []
    },
    {
      "cell_type": "code",
      "source": [
        "df.head()"
      ],
      "metadata": {
        "id": "CIkaHh4Oows4"
      },
      "execution_count": null,
      "outputs": []
    },
    {
      "cell_type": "code",
      "source": [
        "df.shape"
      ],
      "metadata": {
        "id": "_LX24OT9o2rX"
      },
      "execution_count": null,
      "outputs": []
    },
    {
      "cell_type": "code",
      "source": [
        "df.isnull().sum()"
      ],
      "metadata": {
        "id": "OHOOhnYLo8ap"
      },
      "execution_count": null,
      "outputs": []
    },
    {
      "cell_type": "code",
      "source": [
        "#del duplicate\n",
        "df.drop_duplicates(inplace=True)"
      ],
      "metadata": {
        "id": "lQfMKHpF5-yU"
      },
      "execution_count": null,
      "outputs": []
    },
    {
      "cell_type": "code",
      "source": [
        "df.shape"
      ],
      "metadata": {
        "id": "Y6cLJv4W6GJs"
      },
      "execution_count": null,
      "outputs": []
    },
    {
      "cell_type": "code",
      "source": [],
      "metadata": {
        "id": "vZOYhnSEpB_P"
      },
      "execution_count": null,
      "outputs": []
    },
    {
      "cell_type": "code",
      "source": [
        "df.head()"
      ],
      "metadata": {
        "id": "3_zz8otQpID0"
      },
      "execution_count": null,
      "outputs": []
    },
    {
      "cell_type": "markdown",
      "source": [
        "#text cleaning\n"
      ],
      "metadata": {
        "id": "1ExPrRQKpPpZ"
      }
    },
    {
      "cell_type": "code",
      "source": [
        "df['text'] = df['text'].str.lower()\n",
        "df['text'] = df['text'].replace(r'\\n', ' ', regex=True)\n",
        "df['text'] = df['text'].replace(r'[^a-zA-Z0-9\\s]', '', regex=True)  # remove punctuation\n"
      ],
      "metadata": {
        "id": "oAMBPGqGpK2Z"
      },
      "execution_count": null,
      "outputs": []
    },
    {
      "cell_type": "code",
      "source": [
        "df.head()"
      ],
      "metadata": {
        "id": "t10NTgL-qMll"
      },
      "execution_count": null,
      "outputs": []
    },
    {
      "cell_type": "code",
      "source": [
        "df['artist'] = df['artist'].str.lower().str.replace(' ', '')\n"
      ],
      "metadata": {
        "id": "zaSrLV8IpdbF"
      },
      "execution_count": null,
      "outputs": []
    },
    {
      "cell_type": "code",
      "source": [
        "df.head()"
      ],
      "metadata": {
        "id": "205RVujCpfnZ"
      },
      "execution_count": null,
      "outputs": []
    },
    {
      "cell_type": "code",
      "source": [
        "!pip install spotipy\n",
        "import spotipy\n",
        "from spotipy.oauth2 import SpotifyClientCredentials"
      ],
      "metadata": {
        "id": "EgZEiGBDlmLG"
      },
      "execution_count": null,
      "outputs": []
    },
    {
      "cell_type": "code",
      "source": [
        "\n",
        "CLIENT_ID = \"70a9fb89662f4dac8d07321b259eaad7\"\n",
        "CLIENT_SECRET = \"4d6710460d764fbbb8d8753dc094d131\""
      ],
      "metadata": {
        "id": "KTTtDPMtnc0i"
      },
      "execution_count": null,
      "outputs": []
    },
    {
      "cell_type": "code",
      "source": [
        "client_credentials_manager = SpotifyClientCredentials(client_id=CLIENT_ID, client_secret=CLIENT_SECRET)\n",
        "sp = spotipy.Spotify(client_credentials_manager=client_credentials_manager)\n",
        "\n",
        "def get_song_album_cover_url(song_name, artist_name):\n",
        "    try:\n",
        "        search_query = f\"track:{song_name} artist:{artist_name}\"\n",
        "        results = sp.search(q=search_query, type=\"track\")\n",
        "        track = results[\"tracks\"][\"items\"][0]\n",
        "        album_cover_url = track[\"album\"][\"images\"][0][\"url\"]\n",
        "        spotify_url = track[\"external_urls\"][\"spotify\"]\n",
        "        return album_cover_url, spotify_url\n",
        "    except:\n",
        "        return None, None"
      ],
      "metadata": {
        "id": "4mQjBV_7lrSS"
      },
      "execution_count": null,
      "outputs": []
    },
    {
      "cell_type": "code",
      "source": [
        "filtered_rows = []\n",
        "\n",
        "for idx, row in df.sample(n=15000, random_state=42).iterrows():\n",
        "    poster, url = get_song_album_cover_url(row['song'], row['artist'])\n",
        "    if poster and url:\n",
        "        row['album_cover_url'] = poster\n",
        "        row['spotify_url'] = url\n",
        "        filtered_rows.append(row)\n",
        "\n",
        "# Create filtered DataFrame\n",
        "filtered_music_df = pd.DataFrame(filtered_rows)"
      ],
      "metadata": {
        "id": "uk9qL9wylsnM"
      },
      "execution_count": null,
      "outputs": []
    },
    {
      "cell_type": "code",
      "source": [
        "filtered_music_df.head()"
      ],
      "metadata": {
        "id": "l1Cr2LqSlzWu"
      },
      "execution_count": null,
      "outputs": []
    },
    {
      "cell_type": "code",
      "source": [
        "filtered_music_df.to_csv(\"filtered_music.csv\", index=False)\n"
      ],
      "metadata": {
        "id": "WhvX0570l3eX"
      },
      "execution_count": null,
      "outputs": []
    },
    {
      "cell_type": "code",
      "source": [
        "import pandas as pd\n",
        "from sentence_transformers import SentenceTransformer\n",
        "import torch\n",
        "from sklearn.metrics.pairwise import cosine_similarity"
      ],
      "metadata": {
        "id": "L_DyoTZ_5VIR"
      },
      "execution_count": null,
      "outputs": []
    },
    {
      "cell_type": "code",
      "source": [
        "df=pd.read_csv(\"filtered_music.csv\")"
      ],
      "metadata": {
        "id": "lpsKpm09vV8O"
      },
      "execution_count": null,
      "outputs": []
    },
    {
      "cell_type": "code",
      "source": [
        "model = SentenceTransformer('all-MiniLM-L6-v2')\n",
        "\n",
        "# STEP 1: Get unique artist embeddings\n",
        "artist_embeddings = {}\n",
        "for artist in df['artist'].unique():\n",
        "    text = f\"Artist: {artist}\"\n",
        "    vec = model.encode(text, convert_to_tensor=True)\n",
        "    artist_embeddings[artist] = vec\n",
        "\n",
        "# STEP 2: Compute combined embedding (lyrics + artist)\n",
        "def get_combined_vector(row):\n",
        "    lyric_vec = model.encode(row['text'], convert_to_tensor=True)\n",
        "    artist_vec = artist_embeddings[row['artist']]\n",
        "    combined_vec = (0.75*lyric_vec +0.25* artist_vec)  # or use concat for more complexity\n",
        "    return combined_vec"
      ],
      "metadata": {
        "id": "CRc0G5va5Ybw"
      },
      "execution_count": null,
      "outputs": []
    },
    {
      "cell_type": "code",
      "source": [
        "df['combined_vector'] = df.apply(get_combined_vector, axis=1)\n",
        "\n",
        "# STEP 3: Convert all combined vectors into a matrix\n",
        "embedding_matrix = torch.stack(df['combined_vector'].tolist()).cpu().numpy()\n",
        "\n",
        "# STEP 4: Compute cosine similarity matrix\n",
        "similarity_matrix = cosine_similarity(embedding_matrix)"
      ],
      "metadata": {
        "id": "csbFKIHD6Vyu"
      },
      "execution_count": null,
      "outputs": []
    },
    {
      "cell_type": "code",
      "source": [
        "df.shape"
      ],
      "metadata": {
        "id": "r6y3s-BexF4d"
      },
      "execution_count": null,
      "outputs": []
    },
    {
      "cell_type": "code",
      "source": [
        "similarity_matrix.shape"
      ],
      "metadata": {
        "id": "stJY4PyUxH4b"
      },
      "execution_count": null,
      "outputs": []
    },
    {
      "cell_type": "code",
      "source": [
        "import gzip\n",
        "import pickle\n",
        "import numpy as np\n",
        "from tqdm import tqdm  # Optional: progress bar\n",
        "\n",
        "top_n = 30\n",
        "similarity_dict = {}\n",
        "\n",
        "for idx in tqdm(range(len(df))):\n",
        "    song_name = df.iloc[idx]['song']\n",
        "    # Get sorted indices of top-N similar songs (excluding itself)\n",
        "    sim_scores = list(enumerate(similarity_matrix[idx]))\n",
        "    sim_scores = sorted(sim_scores, key=lambda x: x[1], reverse=True)\n",
        "    top_similar = sim_scores[1:top_n+1]  # Exclude itself at index 0\n",
        "\n",
        "    similarity_dict[song_name] = [\n",
        "        {\n",
        "            \"song\": df.iloc[i]['song'],\n",
        "            \"artist\": df.iloc[i]['artist'],\n",
        "            \"score\": float(score)\n",
        "        }\n",
        "        for i, score in top_similar\n",
        "    ]\n",
        "\n",
        "# Save this much smaller structure\n",
        "with gzip.open(\"top30_similar.pkl.gz\", \"wb\") as f:\n",
        "    pickle.dump(similarity_dict, f)\n"
      ],
      "metadata": {
        "id": "_P-cPCyPG9Op"
      },
      "execution_count": null,
      "outputs": []
    },
    {
      "cell_type": "code",
      "source": [
        "\n",
        "def recommendation(song_df):\n",
        "    idx = df[df['song'] == song_df].index[0]\n",
        "    distances = sorted(list(enumerate(similarity_matrix[idx])),reverse=True,key=lambda x:x[1])\n",
        "\n",
        "    songs = []\n",
        "    for m_id in distances[1:21]:\n",
        "        songs.append(df.iloc[m_id[0]].song)\n",
        "\n",
        "    return songs"
      ],
      "metadata": {
        "id": "BwiaNJbmumI0"
      },
      "execution_count": null,
      "outputs": []
    },
    {
      "cell_type": "code",
      "source": [
        "df.tail()"
      ],
      "metadata": {
        "id": "Qdk6yDurv78M"
      },
      "execution_count": null,
      "outputs": []
    }
  ]
}